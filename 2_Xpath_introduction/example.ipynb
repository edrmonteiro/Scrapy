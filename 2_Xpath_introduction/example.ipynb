{
 "cells": [
  {
   "cell_type": "markdown",
   "source": [
    "scrapy xpath example"
   ],
   "metadata": {}
  },
  {
   "cell_type": "code",
   "execution_count": 8,
   "source": [
    "from scrapy.selector import Selector\n",
    "import pathlib"
   ],
   "outputs": [],
   "metadata": {}
  },
  {
   "cell_type": "code",
   "execution_count": 9,
   "source": [
    "file_name = \"foo.html\"\n",
    "path = str(pathlib.Path().resolve()) + \"/\"\n",
    "file = open(path + file_name)\n",
    "html_doc = file.read()\n",
    "sel = Selector(text=html_doc)"
   ],
   "outputs": [],
   "metadata": {}
  },
  {
   "cell_type": "code",
   "execution_count": 11,
   "source": [
    "sel"
   ],
   "outputs": [
    {
     "output_type": "execute_result",
     "data": {
      "text/plain": [
       "<Selector xpath=None data='<html>\\n  <head>\\n    <title>Title of t...'>"
      ]
     },
     "metadata": {},
     "execution_count": 11
    }
   ],
   "metadata": {}
  },
  {
   "cell_type": "code",
   "execution_count": 12,
   "source": [
    "sel.extract()"
   ],
   "outputs": [
    {
     "output_type": "execute_result",
     "data": {
      "text/plain": [
       "'<html>\\n  <head>\\n    <title>Title of the page</title>\\n  </head>\\n  <body>\\n    <h1>H1 Tag</h1>\\n    <h2>H2 Tag with <a href=\"#\">link</a></h2>\\n    <p>First Paragraph</p>\\n    <p>Second Paragraph</p>\\n  </body>\\n</html>'"
      ]
     },
     "metadata": {},
     "execution_count": 12
    }
   ],
   "metadata": {}
  },
  {
   "cell_type": "code",
   "execution_count": 14,
   "source": [
    "sel.xpath('/html/head/title').extract()"
   ],
   "outputs": [
    {
     "output_type": "execute_result",
     "data": {
      "text/plain": [
       "['<title>Title of the page</title>']"
      ]
     },
     "metadata": {},
     "execution_count": 14
    }
   ],
   "metadata": {}
  },
  {
   "cell_type": "code",
   "execution_count": 15,
   "source": [
    "sel.xpath('//title').extract()"
   ],
   "outputs": [
    {
     "output_type": "execute_result",
     "data": {
      "text/plain": [
       "['<title>Title of the page</title>']"
      ]
     },
     "metadata": {},
     "execution_count": 15
    }
   ],
   "metadata": {}
  },
  {
   "cell_type": "code",
   "execution_count": 16,
   "source": [
    "sel.xpath('//text()').extract()"
   ],
   "outputs": [
    {
     "output_type": "execute_result",
     "data": {
      "text/plain": [
       "['\\n  ',\n",
       " '\\n    ',\n",
       " 'Title of the page',\n",
       " '\\n  ',\n",
       " '\\n  ',\n",
       " '\\n    ',\n",
       " 'H1 Tag',\n",
       " '\\n    ',\n",
       " 'H2 Tag with ',\n",
       " 'link',\n",
       " '\\n    ',\n",
       " 'First Paragraph',\n",
       " '\\n    ',\n",
       " 'Second Paragraph',\n",
       " '\\n  ',\n",
       " '\\n']"
      ]
     },
     "metadata": {},
     "execution_count": 16
    }
   ],
   "metadata": {}
  },
  {
   "cell_type": "code",
   "execution_count": 21,
   "source": [
    "sel.xpath('/html/body/p/text()').extract()"
   ],
   "outputs": [
    {
     "output_type": "execute_result",
     "data": {
      "text/plain": [
       "['First Paragraph', 'Second Paragraph']"
      ]
     },
     "metadata": {},
     "execution_count": 21
    }
   ],
   "metadata": {}
  },
  {
   "cell_type": "code",
   "execution_count": 26,
   "source": [
    "sel.xpath('//p/text()')[0].extract()"
   ],
   "outputs": [
    {
     "output_type": "execute_result",
     "data": {
      "text/plain": [
       "'First Paragraph'"
      ]
     },
     "metadata": {},
     "execution_count": 26
    }
   ],
   "metadata": {}
  },
  {
   "cell_type": "code",
   "execution_count": 28,
   "source": [
    "sel.xpath('//h2/text()').extract()"
   ],
   "outputs": [
    {
     "output_type": "execute_result",
     "data": {
      "text/plain": [
       "['H2 Tag with ']"
      ]
     },
     "metadata": {},
     "execution_count": 28
    }
   ],
   "metadata": {}
  },
  {
   "cell_type": "code",
   "execution_count": 29,
   "source": [
    "sel.xpath('//h2/a/@href').extract()"
   ],
   "outputs": [
    {
     "output_type": "execute_result",
     "data": {
      "text/plain": [
       "['#']"
      ]
     },
     "metadata": {},
     "execution_count": 29
    }
   ],
   "metadata": {}
  },
  {
   "cell_type": "code",
   "execution_count": 31,
   "source": [
    "sel.css('h2').extract()"
   ],
   "outputs": [
    {
     "output_type": "execute_result",
     "data": {
      "text/plain": [
       "['<h2>H2 Tag with <a href=\"#\">link</a></h2>']"
      ]
     },
     "metadata": {},
     "execution_count": 31
    }
   ],
   "metadata": {}
  }
 ],
 "metadata": {
  "orig_nbformat": 4,
  "language_info": {
   "name": "python",
   "version": "3.7.10",
   "mimetype": "text/x-python",
   "codemirror_mode": {
    "name": "ipython",
    "version": 3
   },
   "pygments_lexer": "ipython3",
   "nbconvert_exporter": "python",
   "file_extension": ".py"
  },
  "kernelspec": {
   "name": "python3",
   "display_name": "Python 3.7.10 64-bit ('venv': venv)"
  },
  "interpreter": {
   "hash": "2428c6ab304b55bfadef5a3e2fc608ceb373d4333bf1ffc2f741d00e80119a78"
  }
 },
 "nbformat": 4,
 "nbformat_minor": 2
}